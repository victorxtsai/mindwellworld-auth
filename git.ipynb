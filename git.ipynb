{
 "cells": [
  {
   "cell_type": "markdown",
   "metadata": {},
   "source": [
    "#### Set Up Expo\n",
    "- in the terminal, do: npx expo start -c"
   ]
  },
  {
   "cell_type": "markdown",
   "metadata": {},
   "source": [
    "#### Import Main/Master Branch\n",
    "- to set up new project to link with git, go to cmd (not in vscode) and go to project directory, then do\n",
    "- git init\n",
    "- git remote add origin https://github.com/victorxtsai/mindwell.git\n",
    "- git add -A\n",
    "- git commit -m \"Initial commit\"\n",
    "- git push -u origin master"
   ]
  },
  {
   "cell_type": "code",
   "execution_count": 1,
   "metadata": {},
   "outputs": [
    {
     "name": "stdout",
     "output_type": "stream",
     "text": [
      "On branch CosmicSerenity20250130_Codespace\n",
      "Your branch is up to date with 'origin/CosmicSerenity20250130_Codespace'.\n",
      "\n",
      "Changes not staged for commit:\n",
      "  (use \"git add <file>...\" to update what will be committed)\n",
      "  (use \"git restore <file>...\" to discard changes in working directory)\n",
      "\t\u001b[31mmodified:   ../app/components/dailyentry/DailyEntryVoiceMemoBottomSheet.tsx\u001b[m\n",
      "\t\u001b[31mmodified:   ../app/components/dailyentry/VoiceMemoFeature.tsx\u001b[m\n",
      "\t\u001b[31mmodified:   ../app/screens/dailyentry/DailyEntryJournalScreen.tsx\u001b[m\n",
      "\t\u001b[31mmodified:   git.ipynb\u001b[m\n",
      "\t\u001b[31mmodified:   ../package-lock.json\u001b[m\n",
      "\t\u001b[31mmodified:   ../package.json\u001b[m\n",
      "\n",
      "no changes added to commit (use \"git add\" and/or \"git commit -a\")\n"
     ]
    }
   ],
   "source": [
    "!git status"
   ]
  },
  {
   "cell_type": "code",
   "execution_count": 2,
   "metadata": {},
   "outputs": [
    {
     "name": "stdout",
     "output_type": "stream",
     "text": [
      "error: pathspec 'help/git.ipynb' did not match any file(s) known to git\n",
      "error: Your local changes to the following files would be overwritten by checkout:\n",
      "\tapp/components/dailyentry/DailyEntryVoiceMemoBottomSheet.tsx\n",
      "\tapp/components/dailyentry/VoiceMemoFeature.tsx\n",
      "\tapp/screens/dailyentry/DailyEntryJournalScreen.tsx\n",
      "\thelp/git.ipynb\n",
      "\tpackage-lock.json\n",
      "\tpackage.json\n",
      "Please commit your changes or stash them before you switch branches.\n",
      "Aborting\n",
      "remote: Enumerating objects: 29, done.\u001b[K\n",
      "remote: Total 29 (delta 0), reused 0 (delta 0), pack-reused 29 (from 1)\u001b[K\n",
      "Unpacking objects: 100% (29/29), 25.39 KiB | 650.00 KiB/s, done.\n",
      "From https://github.com/victorxtsai/mindwell\n",
      " * branch            master     -> FETCH_HEAD\n",
      "   cd22ae9..7170cc3  master     -> origin/master\n",
      "Updating fcf4755..7170cc3\n",
      "Fast-forward\n",
      "On branch CosmicSerenity20250130_Codespace\n",
      "Your branch is ahead of 'origin/CosmicSerenity20250130_Codespace' by 29 commits.\n",
      "  (use \"git push\" to publish your local commits)\n",
      "\n",
      "Changes not staged for commit:\n",
      "  (use \"git add <file>...\" to update what will be committed)\n",
      "  (use \"git restore <file>...\" to discard changes in working directory)\n",
      "\t\u001b[31mmodified:   ../app/components/dailyentry/DailyEntryVoiceMemoBottomSheet.tsx\u001b[m\n",
      "\t\u001b[31mmodified:   ../app/components/dailyentry/VoiceMemoFeature.tsx\u001b[m\n",
      "\t\u001b[31mmodified:   ../app/screens/dailyentry/DailyEntryJournalScreen.tsx\u001b[m\n",
      "\t\u001b[31mmodified:   git.ipynb\u001b[m\n",
      "\t\u001b[31mmodified:   ../package-lock.json\u001b[m\n",
      "\t\u001b[31mmodified:   ../package.json\u001b[m\n",
      "\n",
      "no changes added to commit (use \"git add\" and/or \"git commit -a\")\n"
     ]
    }
   ],
   "source": [
    "# git checkout master: switch to main branch, this makes sure you are on the main branch. If you're already there, it won't make any changes.\n",
    "# git pull origin master: pull the latest changes from the remote main branch, this command will fetch and merge the latest changes from the remote main branch into your local main branch. note that this is a combination of two commands: git fetch origin main followed by git merge origin/main\n",
    "!git checkout -- help/git.ipynb\n",
    "!git checkout master\n",
    "!git pull origin master\n",
    "!git status"
   ]
  },
  {
   "cell_type": "markdown",
   "metadata": {},
   "source": [
    "#### Create New Branch"
   ]
  },
  {
   "cell_type": "code",
   "execution_count": 13,
   "metadata": {},
   "outputs": [
    {
     "name": "stdout",
     "output_type": "stream",
     "text": [
      "Switched to a new branch 'Update20250216'\n",
      "Update20250216\n"
     ]
    }
   ],
   "source": [
    "\n",
    "# create new branch\n",
    "!git checkout -b Update20250216\n",
    "!git branch --show-current"
   ]
  },
  {
   "cell_type": "code",
   "execution_count": 1,
   "metadata": {},
   "outputs": [
    {
     "name": "stdout",
     "output_type": "stream",
     "text": [
      "On branch Update20250216\n",
      "Your branch is up to date with 'origin/Update20250216'.\n",
      "\n",
      "Changes not staged for commit:\n",
      "  (use \"git add <file>...\" to update what will be committed)\n",
      "  (use \"git restore <file>...\" to discard changes in working directory)\n",
      "\t\u001b[31mmodified:   functions/index.js\u001b[m\n",
      "\t\u001b[31mmodified:   git.ipynb\u001b[m\n",
      "\t\u001b[31mmodified:   src/pages/AccountAccess.js\u001b[m\n",
      "\n",
      "no changes added to commit (use \"git add\" and/or \"git commit -a\")\n"
     ]
    }
   ],
   "source": [
    "# see changes\n",
    "!git status"
   ]
  },
  {
   "cell_type": "markdown",
   "metadata": {},
   "source": [
    "#### Commit New Branch"
   ]
  },
  {
   "cell_type": "code",
   "execution_count": 18,
   "metadata": {},
   "outputs": [
    {
     "name": "stdout",
     "output_type": "stream",
     "text": [
      "[Update20250216 53f9dad5] Update20250216\n",
      " 3 files changed, 54 insertions(+), 27 deletions(-)\n",
      " delete mode 100644 README.old.md\n",
      "Enumerating objects: 11, done.\n",
      "Counting objects: 100% (11/11), done.\n",
      "Delta compression using up to 2 threads\n",
      "Compressing objects: 100% (6/6), done.\n",
      "Writing objects: 100% (6/6), 1.41 KiB | 1.41 MiB/s, done.\n",
      "Total 6 (delta 4), reused 0 (delta 0), pack-reused 0 (from 0)\n",
      "remote: Resolving deltas: 100% (4/4), completed with 4 local objects.\u001b[K\n",
      "To https://github.com/victorxtsai/mindwellworld-auth\n",
      "   691a78af..53f9dad5  Update20250216 -> Update20250216\n",
      "branch 'Update20250216' set up to track 'origin/Update20250216'.\n"
     ]
    }
   ],
   "source": [
    "# stage, commit, push changes\n",
    "# !get add . only stages current directory\n",
    "# !get add -A stages every change\n",
    "!git add -A\n",
    "!git commit -m \"Update20250216\"\n",
    "!git push -u origin Update20250216"
   ]
  },
  {
   "cell_type": "code",
   "execution_count": null,
   "metadata": {},
   "outputs": [],
   "source": [
    "# use npm run deploy to push changes live, this is different from commit - use commit to save files\n"
   ]
  }
 ],
 "metadata": {
  "kernelspec": {
   "display_name": "Python 3",
   "language": "python",
   "name": "python3"
  },
  "language_info": {
   "codemirror_mode": {
    "name": "ipython",
    "version": 3
   },
   "file_extension": ".py",
   "mimetype": "text/x-python",
   "name": "python",
   "nbconvert_exporter": "python",
   "pygments_lexer": "ipython3",
   "version": "3.12.1"
  }
 },
 "nbformat": 4,
 "nbformat_minor": 4
}
